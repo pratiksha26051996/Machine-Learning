{
 "cells": [
  {
   "cell_type": "markdown",
   "metadata": {},
   "source": [
    "<center>SKILL ACTIVITY NO: 3</center>\n",
    "<span style=\"float:right\">Date:</span> \n",
    "Name:<br>\n",
    "PRN:<br>\n",
    "School: School of Data Science<br>\n",
    "Program: Machine Learning/ Data Associate<br>\n",
    "Batch: ML9/ DA9<br>\n",
    "Module Name: Python Programming<br>\n",
    "Module Code: ML101/DA101<br>\n",
    "##### Title: Perform an exploratory data analysis on the California Housing dataset. Use appropriate libraries.\n",
    "\n",
    "##### Skills/Competencies to be acquired:<br>\n",
    "1.\tTo gain an understanding of data and find clues from the data.\n",
    "2.\tAssess assumptions on which statistical inference will be based.\n",
    "3.\tTo check the quality of data for further processing and cleaning if necessary.\n",
    "4.\tTo check for anomalies or outliers that may impact model.\n",
    "5.\tData Visualization.\n",
    "\n",
    "##### Duration of activity: 1 Hour<br>\n",
    "\n",
    "##### 1.What is the purpose of this activity?<br>\n",
    "\n",
    "Preview data.<br>\n",
    "Check total number of entries and column types.<br>\n",
    "Check any null values.<br>\n",
    "Check duplicate entries.<br>\n",
    "Plot distribution of numeric data (univariate and pairwise joint distribution).<br>\n",
    "Plot count distribution of categorical data.<br>\n",
    "\n",
    "##### 2.Steps performed in this activity.<br>\n",
    "1)<br>\n",
    "2)<br>\n",
    "3)<br>\n",
    "\n",
    "##### 3.What resources / materials / equipment / tools did you use for this activity?<br>\n",
    "1)<br>\n",
    "2)<br>\n",
    "3)<br>\n",
    "\n",
    "##### 4.What skills did you acquire?<br>\n",
    "1)<br>\n",
    "2)<br>\n",
    "3)<br>\n",
    "\n",
    "##### 5.Time taken to complete the activity?<br>\n",
    "1)<br>\n",
    "2)<br>\n",
    "3)<br>\n"
   ]
  }
 ],
 "metadata": {
  "kernelspec": {
   "display_name": "Python 3",
   "language": "python",
   "name": "python3"
  },
  "language_info": {
   "codemirror_mode": {
    "name": "ipython",
    "version": 3
   },
   "file_extension": ".py",
   "mimetype": "text/x-python",
   "name": "python",
   "nbconvert_exporter": "python",
   "pygments_lexer": "ipython3",
   "version": "3.8.5"
  }
 },
 "nbformat": 4,
 "nbformat_minor": 4
}
